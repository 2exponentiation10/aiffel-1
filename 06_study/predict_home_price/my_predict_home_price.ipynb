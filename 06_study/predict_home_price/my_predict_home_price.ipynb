{
 "cells": [
  {
   "cell_type": "markdown",
   "id": "43cb22a2",
   "metadata": {},
   "source": [
    "# 집 가격 예측하기\n",
    "## 데이터 필드\n",
    "| **ID**             | 집을 구분하는 번호                                        |\n",
    "|--------------------|-----------------------------------------------------------|\n",
    "| **date**           | 집을 구매한 날짜                                           |\n",
    "| **price**          | 집의 가격(Target variable)                                |\n",
    "| **bedrooms**       | 침실의 수                                                 |\n",
    "| **bathrooms**      | 화장실의 수                                               |\n",
    "| **sqft_living**    | 주거 공간의 평방 피트(면적)                               |\n",
    "| **sqft_lot**       | 부지의 평방 피트(면적)                                    |\n",
    "| **floors**         | 집의 층 수                                                |\n",
    "| **waterfront**     | 집의 전방에 강이 흐르는지 유무 (a.k.a. 리버뷰)            |\n",
    "| **view**           | 집이 얼마나 좋아 보이는지의 정도                           |\n",
    "| **condition**      | 집의 전반적인 상태                                         |\n",
    "| **grade**          | King County grading 시스템 기준으로 매긴 집의 등급       |\n",
    "| **sqft_above**     | 지하실을 제외한 평방 피트(면적)                           |\n",
    "| **sqft_basement**  | 지하실의 평방 피트(면적)                                  |\n",
    "| **yr_built**       | 지어진 년도                                               |\n",
    "| **yr_renovated**   | 집을 재건축한 년도                                       |\n",
    "| **zipcode**        | 우편번호                                                  |\n",
    "| **lat**            | 위도                                                      |\n",
    "| **long**           | 경도                                                      |\n",
    "| **sqft_living15**  | 2015년 기준 주거 공간의 평방 피트(면적, 집을 재건축했다면, 변화가 있을 수 있음) |\n",
    "| **sqft_lot15**     | 2015년 기준 부지의 평방 피트(면적, 집을 재건축했다면, 변화가 있을 수 있음)     |"
   ]
  },
  {
   "cell_type": "code",
   "execution_count": 1,
   "id": "d32a0c3b",
   "metadata": {},
   "outputs": [],
   "source": [
    "# import modules\n",
    "import warnings\n",
    "warnings.filterwarnings(\"ignore\")\n",
    "\n",
    "import os\n",
    "from os.path import join\n",
    "\n",
    "import pandas as pd\n",
    "import numpy as np\n",
    "\n",
    "import missingno as msno\n",
    "\n",
    "from sklearn.ensemble import GradientBoostingRegressor\n",
    "from sklearn.model_selection import KFold, cross_val_score\n",
    "import xgboost as xgb\n",
    "import lightgbm as lgb\n",
    "\n",
    "import matplotlib.pyplot as plt\n",
    "%matplotlib inline\n",
    "%config InlineBackend.figure_format = 'retina'\n",
    "import seaborn as sns\n",
    "\n",
    "# 추가 로드\n",
    "from sklearn.model_selection import train_test_split\n",
    "from sklearn.metrics import mean_squared_error\n",
    "from xgboost import XGBRegressor\n",
    "from lightgbm import LGBMRegressor\n",
    "from sklearn.ensemble import GradientBoostingRegressor, RandomForestRegressor\n",
    "from sklearn.model_selection import GridSearchCV"
   ]
  },
  {
   "cell_type": "code",
   "execution_count": 2,
   "id": "121b93c6",
   "metadata": {},
   "outputs": [],
   "source": [
    "def print_separator():\n",
    "    print('='*80)"
   ]
  },
  {
   "cell_type": "code",
   "execution_count": 3,
   "id": "8c7127f6",
   "metadata": {},
   "outputs": [],
   "source": [
    "# 데이터의 총갯수 15000개정도\n",
    "\n",
    "# 결측치가 없는건 이미 암\n",
    "# lms 노드기준 date컬럼을 int로만, target값 분포만 log로 정규화시킴\n",
    "\n",
    "# TODO date컬럼을 좀더 세분화\n",
    "# TODO 원핫인코딩\n",
    "\n",
    "# TODO 이상치 확인 후 제거\n",
    "# TODO 마지막 노드기준 LGBMRegressor 모델에서 평가한 기준으로만 submission을 작성했지만 여러 모델로 평가해보기"
   ]
  },
  {
   "cell_type": "code",
   "execution_count": 4,
   "id": "5eccb9e4",
   "metadata": {},
   "outputs": [],
   "source": [
    "# data load\n",
    "data_dir = os.getenv('HOME') + '/aiffel/workspace/06_study/predict_home_price/data'\n",
    "\n",
    "train_data_path = os.path.join(data_dir, 'train.csv')\n",
    "test_data_path = os.path.join(data_dir, 'test.csv') \n",
    "\n",
    "org_train = pd.read_csv(train_data_path)\n",
    "train = org_train\n",
    "org_test = pd.read_csv(test_data_path)\n",
    "test = org_test"
   ]
  },
  {
   "cell_type": "markdown",
   "id": "681cb32d",
   "metadata": {},
   "source": [
    "### 필요없는 컬럼 제거 및 y변수에 target값 (노드내용)"
   ]
  },
  {
   "cell_type": "code",
   "execution_count": 5,
   "id": "20ce4d97",
   "metadata": {
    "scrolled": true
   },
   "outputs": [
    {
     "name": "stdout",
     "output_type": "stream",
     "text": [
      "================================================================================\n",
      "Index(['date', 'bedrooms', 'bathrooms', 'sqft_living', 'sqft_lot', 'floors',\n",
      "       'waterfront', 'view', 'condition', 'grade', 'sqft_above',\n",
      "       'sqft_basement', 'yr_built', 'yr_renovated', 'zipcode', 'lat', 'long',\n",
      "       'sqft_living15', 'sqft_lot15'],\n",
      "      dtype='object')\n",
      "================================================================================\n",
      "<class 'pandas.core.frame.DataFrame'>\n",
      "RangeIndex: 15035 entries, 0 to 15034\n",
      "Data columns (total 19 columns):\n",
      " #   Column         Non-Null Count  Dtype  \n",
      "---  ------         --------------  -----  \n",
      " 0   date           15035 non-null  object \n",
      " 1   bedrooms       15035 non-null  int64  \n",
      " 2   bathrooms      15035 non-null  float64\n",
      " 3   sqft_living    15035 non-null  int64  \n",
      " 4   sqft_lot       15035 non-null  int64  \n",
      " 5   floors         15035 non-null  float64\n",
      " 6   waterfront     15035 non-null  int64  \n",
      " 7   view           15035 non-null  int64  \n",
      " 8   condition      15035 non-null  int64  \n",
      " 9   grade          15035 non-null  int64  \n",
      " 10  sqft_above     15035 non-null  int64  \n",
      " 11  sqft_basement  15035 non-null  int64  \n",
      " 12  yr_built       15035 non-null  int64  \n",
      " 13  yr_renovated   15035 non-null  int64  \n",
      " 14  zipcode        15035 non-null  int64  \n",
      " 15  lat            15035 non-null  float64\n",
      " 16  long           15035 non-null  float64\n",
      " 17  sqft_living15  15035 non-null  int64  \n",
      " 18  sqft_lot15     15035 non-null  int64  \n",
      "dtypes: float64(4), int64(14), object(1)\n",
      "memory usage: 2.2+ MB\n",
      "None\n"
     ]
    },
    {
     "data": {
      "text/plain": [
       "<AxesSubplot:xlabel='price', ylabel='Density'>"
      ]
     },
     "execution_count": 5,
     "metadata": {},
     "output_type": "execute_result"
    },
    {
     "data": {
      "image/png": "[encoded data removed]",
      "text/plain": [
       "<Figure size 432x288 with 1 Axes>"
      ]
     },
     "metadata": {
      "image/png": {
       "height": 262,
       "width": 385
      },
      "needs_background": "light"
     },
     "output_type": "display_data"
    }
   ],
   "source": [
    "# train dataset -> remove target,id cols\n",
    "y = train['price']\n",
    "# 로그변환\n",
    "y = np.log1p(y)\n",
    "\n",
    "del train['price']\n",
    "del train['id']\n",
    "\n",
    "print_separator()\n",
    "print(train.columns)\n",
    "print_separator()\n",
    "print(train.info())\n",
    "\n",
    "sns.kdeplot(y) #target값 log화 한 그래프"
   ]
  },
  {
   "cell_type": "code",
   "execution_count": 6,
   "id": "fed73698",
   "metadata": {
    "scrolled": true
   },
   "outputs": [
    {
     "name": "stdout",
     "output_type": "stream",
     "text": [
      "================================================================================\n",
      "Index(['date', 'bedrooms', 'bathrooms', 'sqft_living', 'sqft_lot', 'floors',\n",
      "       'waterfront', 'view', 'condition', 'grade', 'sqft_above',\n",
      "       'sqft_basement', 'yr_built', 'yr_renovated', 'zipcode', 'lat', 'long',\n",
      "       'sqft_living15', 'sqft_lot15'],\n",
      "      dtype='object')\n",
      "================================================================================\n",
      "<class 'pandas.core.frame.DataFrame'>\n",
      "RangeIndex: 6468 entries, 0 to 6467\n",
      "Data columns (total 19 columns):\n",
      " #   Column         Non-Null Count  Dtype  \n",
      "---  ------         --------------  -----  \n",
      " 0   date           6468 non-null   object \n",
      " 1   bedrooms       6468 non-null   int64  \n",
      " 2   bathrooms      6468 non-null   float64\n",
      " 3   sqft_living    6468 non-null   int64  \n",
      " 4   sqft_lot       6468 non-null   int64  \n",
      " 5   floors         6468 non-null   float64\n",
      " 6   waterfront     6468 non-null   int64  \n",
      " 7   view           6468 non-null   int64  \n",
      " 8   condition      6468 non-null   int64  \n",
      " 9   grade          6468 non-null   int64  \n",
      " 10  sqft_above     6468 non-null   int64  \n",
      " 11  sqft_basement  6468 non-null   int64  \n",
      " 12  yr_built       6468 non-null   int64  \n",
      " 13  yr_renovated   6468 non-null   int64  \n",
      " 14  zipcode        6468 non-null   int64  \n",
      " 15  lat            6468 non-null   float64\n",
      " 16  long           6468 non-null   float64\n",
      " 17  sqft_living15  6468 non-null   int64  \n",
      " 18  sqft_lot15     6468 non-null   int64  \n",
      "dtypes: float64(4), int64(14), object(1)\n",
      "memory usage: 960.2+ KB\n",
      "None\n"
     ]
    }
   ],
   "source": [
    "# test dataset -> remove id col\n",
    "del test['id']\n",
    "\n",
    "print_separator()\n",
    "print(test.columns)\n",
    "print_separator()\n",
    "print(test.info())"
   ]
  },
  {
   "cell_type": "markdown",
   "id": "e3bfdb15",
   "metadata": {},
   "source": [
    "## date 컬럼 좀더 세분화"
   ]
  },
  {
   "cell_type": "markdown",
   "id": "63ef960e",
   "metadata": {},
   "source": [
    "### train 데이터셋"
   ]
  },
  {
   "cell_type": "code",
   "execution_count": 7,
   "id": "41b2d2fe",
   "metadata": {},
   "outputs": [
    {
     "name": "stdout",
     "output_type": "stream",
     "text": [
      "<class 'pandas.core.frame.DataFrame'>\n",
      "RangeIndex: 15035 entries, 0 to 15034\n",
      "Data columns (total 21 columns):\n",
      " #   Column         Non-Null Count  Dtype  \n",
      "---  ------         --------------  -----  \n",
      " 0   bedrooms       15035 non-null  int64  \n",
      " 1   bathrooms      15035 non-null  float64\n",
      " 2   sqft_living    15035 non-null  int64  \n",
      " 3   sqft_lot       15035 non-null  int64  \n",
      " 4   floors         15035 non-null  float64\n",
      " 5   waterfront     15035 non-null  int64  \n",
      " 6   view           15035 non-null  int64  \n",
      " 7   condition      15035 non-null  int64  \n",
      " 8   grade          15035 non-null  int64  \n",
      " 9   sqft_above     15035 non-null  int64  \n",
      " 10  sqft_basement  15035 non-null  int64  \n",
      " 11  yr_built       15035 non-null  int64  \n",
      " 12  yr_renovated   15035 non-null  int64  \n",
      " 13  zipcode        15035 non-null  int64  \n",
      " 14  lat            15035 non-null  float64\n",
      " 15  long           15035 non-null  float64\n",
      " 16  sqft_living15  15035 non-null  int64  \n",
      " 17  sqft_lot15     15035 non-null  int64  \n",
      " 18  year           15035 non-null  int64  \n",
      " 19  month          15035 non-null  int64  \n",
      " 20  day            15035 non-null  int64  \n",
      "dtypes: float64(4), int64(17)\n",
      "memory usage: 2.4 MB\n"
     ]
    }
   ],
   "source": [
    "# train dataset\n",
    "# date column -> date\n",
    "train = org_train\n",
    "train['date'] = pd.to_datetime(train['date']) # 2014-10-13 < 이형식으로 나옴\n",
    "train['year'] = train['date'].dt.year\n",
    "train['month'] = train['date'].dt.month\n",
    "train['day'] = train['date'].dt.day\n",
    "\n",
    "del train['date'] # datetime 컬럼제거\n",
    "\n",
    "train.info()"
   ]
  },
  {
   "cell_type": "markdown",
   "id": "372f7dfa",
   "metadata": {},
   "source": [
    "### test 데이터에도 적용"
   ]
  },
  {
   "cell_type": "code",
   "execution_count": 8,
   "id": "10c7d3dd",
   "metadata": {},
   "outputs": [
    {
     "name": "stdout",
     "output_type": "stream",
     "text": [
      "<class 'pandas.core.frame.DataFrame'>\n",
      "RangeIndex: 6468 entries, 0 to 6467\n",
      "Data columns (total 21 columns):\n",
      " #   Column         Non-Null Count  Dtype  \n",
      "---  ------         --------------  -----  \n",
      " 0   bedrooms       6468 non-null   int64  \n",
      " 1   bathrooms      6468 non-null   float64\n",
      " 2   sqft_living    6468 non-null   int64  \n",
      " 3   sqft_lot       6468 non-null   int64  \n",
      " 4   floors         6468 non-null   float64\n",
      " 5   waterfront     6468 non-null   int64  \n",
      " 6   view           6468 non-null   int64  \n",
      " 7   condition      6468 non-null   int64  \n",
      " 8   grade          6468 non-null   int64  \n",
      " 9   sqft_above     6468 non-null   int64  \n",
      " 10  sqft_basement  6468 non-null   int64  \n",
      " 11  yr_built       6468 non-null   int64  \n",
      " 12  yr_renovated   6468 non-null   int64  \n",
      " 13  zipcode        6468 non-null   int64  \n",
      " 14  lat            6468 non-null   float64\n",
      " 15  long           6468 non-null   float64\n",
      " 16  sqft_living15  6468 non-null   int64  \n",
      " 17  sqft_lot15     6468 non-null   int64  \n",
      " 18  year           6468 non-null   int64  \n",
      " 19  month          6468 non-null   int64  \n",
      " 20  day            6468 non-null   int64  \n",
      "dtypes: float64(4), int64(17)\n",
      "memory usage: 1.0 MB\n"
     ]
    }
   ],
   "source": [
    "# test dataset\n",
    "# date column -> date\n",
    "test['date'] = pd.to_datetime(test['date']) # 2014-10-13 < 이형식으로 나옴\n",
    "test['year'] = test['date'].dt.year\n",
    "test['month'] = test['date'].dt.month\n",
    "test['day'] = test['date'].dt.day\n",
    "\n",
    "del test['date'] # datetime 컬럼제거\n",
    "\n",
    "test.info()"
   ]
  },
  {
   "cell_type": "markdown",
   "id": "2899b905",
   "metadata": {},
   "source": [
    "## 원 핫 인코딩"
   ]
  },
  {
   "cell_type": "markdown",
   "id": "d82a9710",
   "metadata": {},
   "source": [
    "### train 데이터 셋"
   ]
  },
  {
   "cell_type": "code",
   "execution_count": 9,
   "id": "af7d4302",
   "metadata": {
    "scrolled": true
   },
   "outputs": [
    {
     "data": {
      "text/plain": [
       "['bedrooms',\n",
       " 'bathrooms',\n",
       " 'sqft_living',\n",
       " 'sqft_lot',\n",
       " 'floors',\n",
       " 'waterfront',\n",
       " 'view',\n",
       " 'condition',\n",
       " 'grade',\n",
       " 'sqft_above',\n",
       " 'sqft_basement',\n",
       " 'yr_built',\n",
       " 'yr_renovated',\n",
       " 'zipcode',\n",
       " 'lat',\n",
       " 'long',\n",
       " 'sqft_living15',\n",
       " 'sqft_lot15',\n",
       " 'year',\n",
       " 'month',\n",
       " 'day']"
      ]
     },
     "execution_count": 9,
     "metadata": {},
     "output_type": "execute_result"
    }
   ],
   "source": [
    "all_cols = list(train.columns)\n",
    "all_cols"
   ]
  },
  {
   "cell_type": "code",
   "execution_count": 10,
   "id": "59b5c24a",
   "metadata": {},
   "outputs": [
    {
     "name": "stdout",
     "output_type": "stream",
     "text": [
      "colum이름 floors\n",
      "colum이름 waterfront\n",
      "colum이름 view\n",
      "colum이름 condition\n",
      "colum이름 yr_built\n"
     ]
    },
    {
     "data": {
      "text/plain": [
       "['floors', 'waterfront', 'view', 'condition', 'yr_built']"
      ]
     },
     "execution_count": 10,
     "metadata": {},
     "output_type": "execute_result"
    }
   ],
   "source": [
    "def len_unique_raw(train, test, cols, extra_cols=[]):\n",
    "    same_col = []\n",
    "\n",
    "    for col in cols:\n",
    "        if col in extra_cols:\n",
    "            continue\n",
    "\n",
    "        # 값이 같은 컬럼\n",
    "        train_data = set(train[col])\n",
    "        test_data = set(test[col])\n",
    "        if train_data == test_data:\n",
    "            # bedrooms 12\n",
    "            # test 9\n",
    "            print(f'colum이름 {col}')\n",
    "            same_col.append(col)\n",
    "    return same_col\n",
    "        \n",
    "one_hot_encoding_cols = len_unique_raw(train,test,all_cols,extra_cols=['zipcode','year','month','day']) #우편번호 연 월 일 은 배제\n",
    "one_hot_encoding_cols\n",
    "\n",
    "        \n",
    "# # ['floors','waterfront','view','condition','yr_built']\n",
    "# one_hot_encoding_cols = ['floors','waterfront','view','condition','yr_built']\n",
    "\n",
    "# train.shape"
   ]
  },
  {
   "cell_type": "code",
   "execution_count": 11,
   "id": "aac94afc",
   "metadata": {},
   "outputs": [
    {
     "data": {
      "text/plain": [
       "(15035, 150)"
      ]
     },
     "execution_count": 11,
     "metadata": {},
     "output_type": "execute_result"
    }
   ],
   "source": [
    "def one_hot_encoding(df,cols):\n",
    "    for col in cols:\n",
    "        dummy = pd.get_dummies(data=df[col],prefix=col)\n",
    "        df = pd.concat([df, dummy], axis=1)\n",
    "        \n",
    "    return df\n",
    "\n",
    "# 원핫 인코딩 적용\n",
    "train = one_hot_encoding(train, one_hot_encoding_cols)\n",
    "\n",
    "# 적용한 기존 컬럼들 삭제\n",
    "train = train.drop(columns=one_hot_encoding_cols)\n",
    "\n",
    "train.shape"
   ]
  },
  {
   "cell_type": "markdown",
   "id": "39ccea08",
   "metadata": {},
   "source": [
    "### test 데이터 셋도 적용"
   ]
  },
  {
   "cell_type": "code",
   "execution_count": 12,
   "id": "1d5d6954",
   "metadata": {},
   "outputs": [
    {
     "data": {
      "text/plain": [
       "(6468, 150)"
      ]
     },
     "execution_count": 12,
     "metadata": {},
     "output_type": "execute_result"
    }
   ],
   "source": [
    "test = one_hot_encoding(test, one_hot_encoding_cols)\n",
    "test = test.drop(columns=one_hot_encoding_cols)\n",
    "\n",
    "test.shape"
   ]
  },
  {
   "cell_type": "markdown",
   "id": "437fec11",
   "metadata": {},
   "source": [
    "## 훈련 및 결과 저장"
   ]
  },
  {
   "cell_type": "markdown",
   "id": "d9d5cff4",
   "metadata": {},
   "source": [
    "### 평가지표 rmse로"
   ]
  },
  {
   "cell_type": "code",
   "execution_count": 13,
   "id": "82a6a7f0",
   "metadata": {},
   "outputs": [],
   "source": [
    "# rmse 함수\n",
    "def rmse(y_test, y_pred):\n",
    "    # y의 값을 log로 변환 (np.log1p함수로)했으니 다시 (np.expm1로 원래 숫자로 변환)\n",
    "    return np.sqrt(mean_squared_error(np.expm1(y_test), np.expm1(y_pred)))"
   ]
  },
  {
   "cell_type": "markdown",
   "id": "2dfa4791",
   "metadata": {},
   "source": [
    "### 하이퍼 파라미터 grid search로 최적값 찾기"
   ]
  },
  {
   "cell_type": "code",
   "execution_count": 60,
   "id": "817f9b1c",
   "metadata": {},
   "outputs": [],
   "source": [
    "def run_grid_search(model, train, y, param_grid, verbose=2, n_jobs=-1):\n",
    "    # GridSearch model\n",
    "    grid_model = GridSearchCV(model, param_grid=param_grid, \\\n",
    "                        scoring='neg_mean_squared_error', \\\n",
    "                        cv=5, verbose=verbose, n_jobs=n_jobs)\n",
    "    # train, test 데이터셋 분리 8:2\n",
    "    X_train, X_test, y_train, y_test = train_test_split(train,y,test_size=0.2,random_state=random_state)\n",
    "    \n",
    "    # model을 grid search fit 수행\n",
    "    grid_model.fit(X_train,y_train)\n",
    "    \n",
    "    # grid result\n",
    "    best_params = grid_model.best_params_\n",
    "    \n",
    "    # (최적의 하이퍼파라미터 값을지닌 모델, 최적의하이퍼파라미터 각각 반환)\n",
    "    return (grid_model.best_estimator_, grid_model.best_params_)"
   ]
  },
  {
   "cell_type": "markdown",
   "id": "d86f1b56",
   "metadata": {},
   "source": [
    "### 여러 모델 grid search 최적의 하이퍼 파라미터로 rmse로 평가"
   ]
  },
  {
   "cell_type": "code",
   "execution_count": 69,
   "id": "679feb0d",
   "metadata": {},
   "outputs": [],
   "source": [
    "# 각 모델별로 학습하고 결과 저장하기\n",
    "random_state=2024\n",
    "def get_scores(models, train, y):\n",
    "    \n",
    "    # 결과 저장용 dict\n",
    "    df = {}\n",
    "    # 찾고싶은 하이퍼파라미터 순서대로(lightgbm, gboost, xgboost, rdforest) 정의\n",
    "    # 한번에 실행이 안되서 하나씩 주석하면서 진행함\n",
    "    param_grids = [\n",
    "#         # lightgbm\n",
    "#         {\n",
    "#             'num_leaves': [31, 63],\n",
    "#             'learning_rate': [0.01, 0.05]\n",
    "#         },\n",
    "#         # gboost\n",
    "#         {\n",
    "#             # 학습에 사용할 트리의 개수를 의미 트리의 개수가 많을수록 과적합이 될수 있음\n",
    "#             'n_estimators': [100],\n",
    "#             #  트리의 최대 깊이\n",
    "#             'max_depth': [5, 7]\n",
    "#         },\n",
    "#         #xgboost,\n",
    "#         {\n",
    "#             'n_estimators': [100],\n",
    "#             'max_depth': [3, 7]\n",
    "#         },\n",
    "        # rdforest\n",
    "        {\n",
    "            'n_estimators': [100],\n",
    "            'max_depth': [10, 30]\n",
    "        }\n",
    "        \n",
    "    ]\n",
    "    \n",
    "    for model,param_grid in zip(models, param_grids):\n",
    "        # grid search 수행 \n",
    "        # return으로 가장 best 하이퍼파라미터를 가진 모델, best 하이퍼파라미터 값을 주게만듬\n",
    "        grid_model, best_params = run_grid_search(model, train, y, param_grid, verbose=2, n_jobs=5)\n",
    "        \n",
    "        \n",
    "        # 모델 이름 획득\n",
    "        model_name = grid_model.__class__.__name__\n",
    "        print_separator()\n",
    "        print(f'{model_name}의 best 하이퍼파라미터: {best_params}')\n",
    "\n",
    "        # train, test 데이터셋 분리 8:2\n",
    "        X_train, X_test, y_train, y_test = train_test_split(train,y,test_size=0.2,random_state=random_state)\n",
    "        \n",
    "\n",
    "        # 예측\n",
    "        y_pred = grid_model.predict(X_test)\n",
    "\n",
    "        # 예측 결과의 rmse값 저장\n",
    "        df[model_name+'_rmse'] = rmse(y_test,y_pred)\n",
    "        df[model_name+'_pred'] = np.expm1(y_pred)\n",
    "\n",
    "        # data frame에 저장\n",
    "        # score_df = pd.DataFrame(df, index=['RMSE']).T.sort_values('RMSE', ascending=False)\n",
    "    return df"
   ]
  },
  {
   "cell_type": "code",
   "execution_count": 43,
   "id": "9b499165",
   "metadata": {},
   "outputs": [],
   "source": [
    "# 한번에 돌릴라고 했는데 응답이 안옴..\n",
    "# 여러 모델을 실험해볼거 (lightgbm, gboost, xgboost, rdforest)\n",
    "# get_scores의 params_grids 하나씩 주석하면서 진행함\n",
    "\n",
    "gboost = GradientBoostingRegressor(random_state=random_state)\n",
    "xgboost = XGBRegressor(random_state=random_state)\n",
    "lightgbm = LGBMRegressor(random_state=random_state)\n",
    "rdforest = RandomForestRegressor(random_state=random_state)\n",
    "\n",
    "# models = [lightgbm, gboost, xgboost, rdforest]\n",
    "\n",
    "# result = get_scores(models, train, y)\n",
    "# result"
   ]
  },
  {
   "cell_type": "markdown",
   "id": "161df08a",
   "metadata": {},
   "source": [
    "### lightgbm"
   ]
  },
  {
   "cell_type": "code",
   "execution_count": 55,
   "id": "d8024f96",
   "metadata": {},
   "outputs": [
    {
     "name": "stdout",
     "output_type": "stream",
     "text": [
      "Fitting 5 folds for each of 4 candidates, totalling 20 fits\n",
      "================================================================================\n",
      "LGBMRegressor의 best 하이퍼파라미터: {'learning_rate': 0.05, 'num_leaves': 63}\n"
     ]
    },
    {
     "data": {
      "text/plain": [
       "{'LGBMRegressor_rmse': 171184.92974679414,\n",
       " 'LGBMRegressor_pred': array([799665.89316198, 604201.33870115, 316491.6574923 , ...,\n",
       "        728131.31764693, 336744.81068476, 747594.60608537])}"
      ]
     },
     "execution_count": 55,
     "metadata": {},
     "output_type": "execute_result"
    }
   ],
   "source": [
    "# lightgbm\n",
    "models = [lightgbm]\n",
    "result_lightgbm = get_scores(models, train, y)\n",
    "result_lightgbm"
   ]
  },
  {
   "cell_type": "markdown",
   "id": "e2cf7434",
   "metadata": {},
   "source": [
    "### gboost"
   ]
  },
  {
   "cell_type": "code",
   "execution_count": 66,
   "id": "bfe33129",
   "metadata": {},
   "outputs": [
    {
     "name": "stdout",
     "output_type": "stream",
     "text": [
      "Fitting 5 folds for each of 2 candidates, totalling 10 fits\n",
      "================================================================================\n",
      "GradientBoostingRegressor의 best 하이퍼파라미터: {'max_depth': 7, 'n_estimators': 100}\n"
     ]
    },
    {
     "data": {
      "text/plain": [
       "{'GradientBoostingRegressor_rmse': 154899.34202184723,\n",
       " 'GradientBoostingRegressor_pred': array([952606.75250716, 616532.40334051, 312753.72940259, ...,\n",
       "        719675.54448322, 337945.90445471, 707075.4886877 ])}"
      ]
     },
     "execution_count": 66,
     "metadata": {},
     "output_type": "execute_result"
    }
   ],
   "source": [
    "# gboost\n",
    "models = [gboost]\n",
    "result_gboost = get_scores(models, train, y)\n",
    "result_gboost"
   ]
  },
  {
   "cell_type": "markdown",
   "id": "17c2f687",
   "metadata": {},
   "source": [
    "### xgboost"
   ]
  },
  {
   "cell_type": "code",
   "execution_count": 68,
   "id": "eff07741",
   "metadata": {},
   "outputs": [
    {
     "name": "stdout",
     "output_type": "stream",
     "text": [
      "Fitting 5 folds for each of 2 candidates, totalling 10 fits\n"
     ]
    },
    {
     "name": "stderr",
     "output_type": "stream",
     "text": [
      "/opt/conda/lib/python3.9/site-packages/pkg_resources/__init__.py:122: PkgResourcesDeprecationWarning: 0.996-ko-0.9.2 is an invalid version and will not be supported in a future release\n",
      "  warnings.warn(\n",
      "/opt/conda/lib/python3.9/site-packages/pkg_resources/__init__.py:122: PkgResourcesDeprecationWarning: 0.996-ko-0.9.2 is an invalid version and will not be supported in a future release\n",
      "  warnings.warn(\n",
      "/opt/conda/lib/python3.9/site-packages/pkg_resources/__init__.py:122: PkgResourcesDeprecationWarning: 0.996-ko-0.9.2 is an invalid version and will not be supported in a future release\n",
      "  warnings.warn(\n",
      "/opt/conda/lib/python3.9/site-packages/pkg_resources/__init__.py:122: PkgResourcesDeprecationWarning: 0.996-ko-0.9.2 is an invalid version and will not be supported in a future release\n",
      "  warnings.warn(\n",
      "/opt/conda/lib/python3.9/site-packages/pkg_resources/__init__.py:122: PkgResourcesDeprecationWarning: 0.996-ko-0.9.2 is an invalid version and will not be supported in a future release\n",
      "  warnings.warn(\n"
     ]
    },
    {
     "name": "stdout",
     "output_type": "stream",
     "text": [
      "================================================================================\n",
      "XGBRegressor의 best 하이퍼파라미터: {'max_depth': 7, 'n_estimators': 100}\n"
     ]
    },
    {
     "data": {
      "text/plain": [
       "{'XGBRegressor_rmse': 158379.76719403503,\n",
       " 'XGBRegressor_pred': array([889175.  , 643969.5 , 301057.78, ..., 685859.06, 332284.53,\n",
       "        662935.94], dtype=float32)}"
      ]
     },
     "execution_count": 68,
     "metadata": {},
     "output_type": "execute_result"
    }
   ],
   "source": [
    "# xgboost\n",
    "models = [xgboost]\n",
    "result_xgboost = get_scores(models, train, y)\n",
    "result_xgboost"
   ]
  },
  {
   "cell_type": "markdown",
   "id": "612da5f0",
   "metadata": {},
   "source": [
    "### rdforest"
   ]
  },
  {
   "cell_type": "code",
   "execution_count": 70,
   "id": "fbe9acc3",
   "metadata": {},
   "outputs": [
    {
     "name": "stdout",
     "output_type": "stream",
     "text": [
      "Fitting 5 folds for each of 2 candidates, totalling 10 fits\n",
      "================================================================================\n",
      "RandomForestRegressor의 best 하이퍼파라미터: {'max_depth': 30, 'n_estimators': 100}\n"
     ]
    },
    {
     "data": {
      "text/plain": [
       "{'RandomForestRegressor_rmse': 164666.00352969716,\n",
       " 'RandomForestRegressor_pred': array([804893.12395363, 613876.76369948, 346606.41656607, ...,\n",
       "        780456.59869689, 332442.19887189, 641110.94094272])}"
      ]
     },
     "execution_count": 70,
     "metadata": {},
     "output_type": "execute_result"
    }
   ],
   "source": [
    "# rdforest\n",
    "models = [rdforest]\n",
    "result_rdforest = get_scores(models, train, y)\n",
    "result_rdforest"
   ]
  },
  {
   "cell_type": "code",
   "execution_count": 82,
   "id": "13d12727",
   "metadata": {},
   "outputs": [
    {
     "name": "stdout",
     "output_type": "stream",
     "text": [
      "================================================================================\n",
      "RMSE lightgbm 171184.92974679414\n",
      "================================================================================\n",
      "RMSE gboost 154899.34202184723\n",
      "================================================================================\n",
      "RMSE xboost 158379.76719403503\n",
      "================================================================================\n",
      "RMSE randomforest 164666.00352969716\n"
     ]
    }
   ],
   "source": [
    "# RMSE 값\n",
    "\n",
    "print_separator()\n",
    "print(\"RMSE lightgbm\",result_lightgbm['LGBMRegressor_rmse'])\n",
    "print_separator()\n",
    "print(\"RMSE gboost\",result_gboost['GradientBoostingRegressor_rmse'])\n",
    "print_separator()\n",
    "print(\"RMSE xboost\",result_xgboost['XGBRegressor_rmse'])\n",
    "print_separator()\n",
    "print(\"RMSE randomforest\",result_rdforest['RandomForestRegressor_rmse'])"
   ]
  },
  {
   "cell_type": "code",
   "execution_count": 83,
   "id": "9159c64a",
   "metadata": {},
   "outputs": [
    {
     "name": "stdout",
     "output_type": "stream",
     "text": [
      "================================================================================\n",
      "Pred lightgbm [799665.89316198 604201.33870115 316491.6574923  ... 728131.31764693\n",
      " 336744.81068476 747594.60608537]\n",
      "================================================================================\n",
      "Pred gboost [952606.75250716 616532.40334051 312753.72940259 ... 719675.54448322\n",
      " 337945.90445471 707075.4886877 ]\n",
      "================================================================================\n",
      "Pred XGBOOST [889175.   643969.5  301057.78 ... 685859.06 332284.53 662935.94]\n",
      "================================================================================\n",
      "Pred rdforest [804893.12395363 613876.76369948 346606.41656607 ... 780456.59869689\n",
      " 332442.19887189 641110.94094272]\n"
     ]
    }
   ],
   "source": [
    "# 각 예측값\n",
    "\n",
    "print_separator()\n",
    "print(\"Pred lightgbm\", result_lightgbm['LGBMRegressor_pred'])\n",
    "print_separator()\n",
    "print(\"Pred gboost\", result_gboost['GradientBoostingRegressor_pred'])\n",
    "print_separator()\n",
    "print(\"Pred XGBOOST\", result_xgboost['XGBRegressor_pred'])\n",
    "print_separator()\n",
    "print(\"Pred rdforest\", result_rdforest['RandomForestRegressor_pred'])"
   ]
  },
  {
   "cell_type": "markdown",
   "id": "bc378ec7",
   "metadata": {},
   "source": [
    "# 회고\n",
    "\n",
    "내가 너무많은 원핫인코딩을해서 모델의 복잡성이 증가해 시간이 엄청오래 걸리는거같다. 먼저 시각화를 해보든 다른 방법으로 데이터를 보고 원핫인코딩을 해야겠고, 맨위쪽 TODO에는 이상치 처리도 하고싶어서 적어놨는데 시간이 너무 부족했다"
   ]
  },
  {
   "cell_type": "code",
   "execution_count": null,
   "id": "436686e8",
   "metadata": {},
   "outputs": [],
   "source": []
  }
 ],
 "metadata": {
  "kernelspec": {
   "display_name": "Python 3 (ipykernel)",
   "language": "python",
   "name": "python3"
  },
  "language_info": {
   "codemirror_mode": {
    "name": "ipython",
    "version": 3
   },
   "file_extension": ".py",
   "mimetype": "text/x-python",
   "name": "python",
   "nbconvert_exporter": "python",
   "pygments_lexer": "ipython3",
   "version": "3.9.7"
  }
 },
 "nbformat": 4,
 "nbformat_minor": 5
}
