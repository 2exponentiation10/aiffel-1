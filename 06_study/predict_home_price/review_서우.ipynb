{
 "cells": [
  {
   "cell_type": "code",
   "execution_count": null,
   "metadata": {},
   "outputs": [],
   "source": []
  },
  {
   "attachments": {},
   "cell_type": "markdown",
   "metadata": {},
   "source": [
    "<aside>\n",
    "🔑 **PRT(Peer Review Template)**\n",
    "\n",
    "- [O]  **1. 주어진 문제를 해결하는 완성된 코드가 제출되었나요? (완성도)**  \n",
    "        ![image.png](attachment:image.png)  ![image-2.png](attachment:image-2.png)  \n",
    "          \n",
    "        feature 엔지니어링에서 전처리를 꼼꼼하게 하려는 시도가 인상적이었습니다.  \n",
    "        다만, day가 꼭 필요한 변수인지, 그리고 깃허브에는 나와있지 않지만, 설명해주실 때 보여주신 floor나 bedroom을 원핫인코딩해야하는지 더 설명해주셨으면 합니다.  \n",
    "        floor 나 bedroom은 꼭 class로 나누어지는 명목변수라고 보기 애매한 거 같아서요!\n",
    "\n",
    "- [ ]  **2. 프로젝트에서 핵심적인 부분에 대한 설명이 주석(닥스트링) 및 마크다운 형태로 잘 기록되어있나요? (설명)**\n",
    "    - [O]  모델 선정 이유\n",
    "    - [ ]  Metrics 선정 이유\n",
    "    - [ ]  Loss 선정 이유\n",
    "\n",
    "- [-]  **3. 체크리스트에 해당하는 항목들을 모두 수행하였나요? (문제 해결)**\n",
    "    - [ ]  데이터를 분할하여 프로젝트를 진행했나요? (train, validation, test 데이터로 구분)\n",
    "    - [ ]  하이퍼파라미터를 변경해가며 여러 시도를 했나요? (learning rate, dropout rate, unit, batch size, epoch 등)\n",
    "    - [ ]  각 실험을 시각화하여 비교하였나요?\n",
    "    - [ ]  모든 실험 결과가 기록되었나요?\n",
    "\n",
    "- [-]  **4. 프로젝트에 대한 회고가 상세히 기록 되어 있나요? (회고, 정리)**\n",
    "    - [ ]  배운 점\n",
    "    - [ ]  아쉬운 점\n",
    "    - [ ]  느낀 점\n",
    "    - [ ]  어려웠던 점\n",
    "</aside>"
   ]
  },
  {
   "cell_type": "markdown",
   "metadata": {},
   "source": []
  }
 ],
 "metadata": {
  "kernelspec": {
   "display_name": "Python 3 (ipykernel)",
   "language": "python",
   "name": "python3"
  },
  "language_info": {
   "codemirror_mode": {
    "name": "ipython",
    "version": 3
   },
   "file_extension": ".py",
   "mimetype": "text/x-python",
   "name": "python",
   "nbconvert_exporter": "python",
   "pygments_lexer": "ipython3",
   "version": "3.9.7"
  }
 },
 "nbformat": 4,
 "nbformat_minor": 2
}
