{
 "cells": [
  {
   "cell_type": "markdown",
   "id": "3e61db16",
   "metadata": {},
   "source": [
    "# 데이터 가져오기"
   ]
  },
  {
   "cell_type": "code",
   "execution_count": 1,
   "id": "c89c45eb",
   "metadata": {},
   "outputs": [
    {
     "name": "stdout",
     "output_type": "stream",
     "text": [
      "<class 'pandas.core.frame.DataFrame'>\n",
      "RangeIndex: 10886 entries, 0 to 10885\n",
      "Data columns (total 18 columns):\n",
      " #   Column      Non-Null Count  Dtype         \n",
      "---  ------      --------------  -----         \n",
      " 0   datetime    10886 non-null  datetime64[ns]\n",
      " 1   season      10886 non-null  int64         \n",
      " 2   holiday     10886 non-null  int64         \n",
      " 3   workingday  10886 non-null  int64         \n",
      " 4   weather     10886 non-null  int64         \n",
      " 5   temp        10886 non-null  float64       \n",
      " 6   atemp       10886 non-null  float64       \n",
      " 7   humidity    10886 non-null  int64         \n",
      " 8   windspeed   10886 non-null  float64       \n",
      " 9   casual      10886 non-null  int64         \n",
      " 10  registered  10886 non-null  int64         \n",
      " 11  count       10886 non-null  int64         \n",
      " 12  year        10886 non-null  int64         \n",
      " 13  month       10886 non-null  int64         \n",
      " 14  day         10886 non-null  int64         \n",
      " 15  hour        10886 non-null  int64         \n",
      " 16  minute      10886 non-null  int64         \n",
      " 17  second      10886 non-null  int64         \n",
      "dtypes: datetime64[ns](1), float64(3), int64(14)\n",
      "memory usage: 1.5 MB\n"
     ]
    }
   ],
   "source": [
    "import numpy as np\n",
    "import pandas as pd\n",
    "\n",
    "# 데이터 경로\n",
    "train = pd.read_csv('~/data/data/bike-sharing-demand/train.csv')\n",
    "\n",
    "org_train = train\n",
    "org_train['datetime'] = pd.to_datetime(org_train['datetime']) # to_datetime\n",
    "\n",
    "# 순서대로 연, 월, 일, 시, 분, 초\n",
    "org_train['year'] = org_train['datetime'].dt.year\n",
    "org_train['month'] = org_train['datetime'].dt.month\n",
    "org_train['day'] = org_train['datetime'].dt.day\n",
    "org_train['hour'] = org_train['datetime'].dt.hour\n",
    "org_train['minute'] = org_train['datetime'].dt.minute\n",
    "org_train['second'] = org_train['datetime'].dt.second\n",
    "\n",
    "train.info()"
   ]
  },
  {
   "cell_type": "code",
   "execution_count": 2,
   "id": "f1ec3b64",
   "metadata": {},
   "outputs": [
    {
     "data": {
      "text/html": [
       "<div>\n",
       "<style scoped>\n",
       "    .dataframe tbody tr th:only-of-type {\n",
       "        vertical-align: middle;\n",
       "    }\n",
       "\n",
       "    .dataframe tbody tr th {\n",
       "        vertical-align: top;\n",
       "    }\n",
       "\n",
       "    .dataframe thead th {\n",
       "        text-align: right;\n",
       "    }\n",
       "</style>\n",
       "<table border=\"1\" class=\"dataframe\">\n",
       "  <thead>\n",
       "    <tr style=\"text-align: right;\">\n",
       "      <th></th>\n",
       "      <th>datetime</th>\n",
       "      <th>season</th>\n",
       "      <th>holiday</th>\n",
       "      <th>workingday</th>\n",
       "      <th>weather</th>\n",
       "      <th>temp</th>\n",
       "      <th>atemp</th>\n",
       "      <th>humidity</th>\n",
       "      <th>windspeed</th>\n",
       "      <th>casual</th>\n",
       "      <th>registered</th>\n",
       "      <th>count</th>\n",
       "      <th>year</th>\n",
       "      <th>month</th>\n",
       "      <th>day</th>\n",
       "      <th>hour</th>\n",
       "      <th>minute</th>\n",
       "      <th>second</th>\n",
       "    </tr>\n",
       "  </thead>\n",
       "  <tbody>\n",
       "    <tr>\n",
       "      <th>0</th>\n",
       "      <td>2011-01-01 00:00:00</td>\n",
       "      <td>1</td>\n",
       "      <td>0</td>\n",
       "      <td>0</td>\n",
       "      <td>1</td>\n",
       "      <td>9.84</td>\n",
       "      <td>14.395</td>\n",
       "      <td>81</td>\n",
       "      <td>0.0</td>\n",
       "      <td>3</td>\n",
       "      <td>13</td>\n",
       "      <td>16</td>\n",
       "      <td>2011</td>\n",
       "      <td>1</td>\n",
       "      <td>1</td>\n",
       "      <td>0</td>\n",
       "      <td>0</td>\n",
       "      <td>0</td>\n",
       "    </tr>\n",
       "    <tr>\n",
       "      <th>1</th>\n",
       "      <td>2011-01-01 01:00:00</td>\n",
       "      <td>1</td>\n",
       "      <td>0</td>\n",
       "      <td>0</td>\n",
       "      <td>1</td>\n",
       "      <td>9.02</td>\n",
       "      <td>13.635</td>\n",
       "      <td>80</td>\n",
       "      <td>0.0</td>\n",
       "      <td>8</td>\n",
       "      <td>32</td>\n",
       "      <td>40</td>\n",
       "      <td>2011</td>\n",
       "      <td>1</td>\n",
       "      <td>1</td>\n",
       "      <td>1</td>\n",
       "      <td>0</td>\n",
       "      <td>0</td>\n",
       "    </tr>\n",
       "    <tr>\n",
       "      <th>2</th>\n",
       "      <td>2011-01-01 02:00:00</td>\n",
       "      <td>1</td>\n",
       "      <td>0</td>\n",
       "      <td>0</td>\n",
       "      <td>1</td>\n",
       "      <td>9.02</td>\n",
       "      <td>13.635</td>\n",
       "      <td>80</td>\n",
       "      <td>0.0</td>\n",
       "      <td>5</td>\n",
       "      <td>27</td>\n",
       "      <td>32</td>\n",
       "      <td>2011</td>\n",
       "      <td>1</td>\n",
       "      <td>1</td>\n",
       "      <td>2</td>\n",
       "      <td>0</td>\n",
       "      <td>0</td>\n",
       "    </tr>\n",
       "    <tr>\n",
       "      <th>3</th>\n",
       "      <td>2011-01-01 03:00:00</td>\n",
       "      <td>1</td>\n",
       "      <td>0</td>\n",
       "      <td>0</td>\n",
       "      <td>1</td>\n",
       "      <td>9.84</td>\n",
       "      <td>14.395</td>\n",
       "      <td>75</td>\n",
       "      <td>0.0</td>\n",
       "      <td>3</td>\n",
       "      <td>10</td>\n",
       "      <td>13</td>\n",
       "      <td>2011</td>\n",
       "      <td>1</td>\n",
       "      <td>1</td>\n",
       "      <td>3</td>\n",
       "      <td>0</td>\n",
       "      <td>0</td>\n",
       "    </tr>\n",
       "    <tr>\n",
       "      <th>4</th>\n",
       "      <td>2011-01-01 04:00:00</td>\n",
       "      <td>1</td>\n",
       "      <td>0</td>\n",
       "      <td>0</td>\n",
       "      <td>1</td>\n",
       "      <td>9.84</td>\n",
       "      <td>14.395</td>\n",
       "      <td>75</td>\n",
       "      <td>0.0</td>\n",
       "      <td>0</td>\n",
       "      <td>1</td>\n",
       "      <td>1</td>\n",
       "      <td>2011</td>\n",
       "      <td>1</td>\n",
       "      <td>1</td>\n",
       "      <td>4</td>\n",
       "      <td>0</td>\n",
       "      <td>0</td>\n",
       "    </tr>\n",
       "  </tbody>\n",
       "</table>\n",
       "</div>"
      ],
      "text/plain": [
       "             datetime  season  holiday  workingday  weather  temp   atemp  \\\n",
       "0 2011-01-01 00:00:00       1        0           0        1  9.84  14.395   \n",
       "1 2011-01-01 01:00:00       1        0           0        1  9.02  13.635   \n",
       "2 2011-01-01 02:00:00       1        0           0        1  9.02  13.635   \n",
       "3 2011-01-01 03:00:00       1        0           0        1  9.84  14.395   \n",
       "4 2011-01-01 04:00:00       1        0           0        1  9.84  14.395   \n",
       "\n",
       "   humidity  windspeed  casual  registered  count  year  month  day  hour  \\\n",
       "0        81        0.0       3          13     16  2011      1    1     0   \n",
       "1        80        0.0       8          32     40  2011      1    1     1   \n",
       "2        80        0.0       5          27     32  2011      1    1     2   \n",
       "3        75        0.0       3          10     13  2011      1    1     3   \n",
       "4        75        0.0       0           1      1  2011      1    1     4   \n",
       "\n",
       "   minute  second  \n",
       "0       0       0  \n",
       "1       0       0  \n",
       "2       0       0  \n",
       "3       0       0  \n",
       "4       0       0  "
      ]
     },
     "execution_count": 2,
     "metadata": {},
     "output_type": "execute_result"
    }
   ],
   "source": [
    "train.head()"
   ]
  },
  {
   "cell_type": "code",
   "execution_count": 3,
   "id": "7f3973d5",
   "metadata": {},
   "outputs": [
    {
     "name": "stdout",
     "output_type": "stream",
     "text": [
      "<class 'pandas.core.frame.DataFrame'>\n",
      "RangeIndex: 10886 entries, 0 to 10885\n",
      "Data columns (total 18 columns):\n",
      " #   Column      Non-Null Count  Dtype         \n",
      "---  ------      --------------  -----         \n",
      " 0   datetime    10886 non-null  datetime64[ns]\n",
      " 1   season      10886 non-null  int64         \n",
      " 2   holiday     10886 non-null  int64         \n",
      " 3   workingday  10886 non-null  int64         \n",
      " 4   weather     10886 non-null  int64         \n",
      " 5   temp        10886 non-null  float64       \n",
      " 6   atemp       10886 non-null  float64       \n",
      " 7   humidity    10886 non-null  int64         \n",
      " 8   windspeed   10886 non-null  float64       \n",
      " 9   casual      10886 non-null  int64         \n",
      " 10  registered  10886 non-null  int64         \n",
      " 11  count       10886 non-null  int64         \n",
      " 12  year        10886 non-null  int64         \n",
      " 13  month       10886 non-null  int64         \n",
      " 14  day         10886 non-null  int64         \n",
      " 15  hour        10886 non-null  int64         \n",
      " 16  minute      10886 non-null  int64         \n",
      " 17  second      10886 non-null  int64         \n",
      "dtypes: datetime64[ns](1), float64(3), int64(14)\n",
      "memory usage: 1.5 MB\n"
     ]
    }
   ],
   "source": [
    "train.info()"
   ]
  },
  {
   "cell_type": "markdown",
   "id": "b58cbc27",
   "metadata": {},
   "source": [
    "# datetime 컬럼을 datetime 자료형으로 변환하고 연, 월, 일, 시, 분, 초까지 6가지 컬럼 생성하기"
   ]
  },
  {
   "cell_type": "code",
   "execution_count": 4,
   "id": "e229e80a",
   "metadata": {},
   "outputs": [
    {
     "name": "stdout",
     "output_type": "stream",
     "text": [
      "<class 'pandas.core.frame.DataFrame'>\n",
      "RangeIndex: 10886 entries, 0 to 10885\n",
      "Data columns (total 18 columns):\n",
      " #   Column      Non-Null Count  Dtype         \n",
      "---  ------      --------------  -----         \n",
      " 0   datetime    10886 non-null  datetime64[ns]\n",
      " 1   season      10886 non-null  int64         \n",
      " 2   holiday     10886 non-null  int64         \n",
      " 3   workingday  10886 non-null  int64         \n",
      " 4   weather     10886 non-null  int64         \n",
      " 5   temp        10886 non-null  float64       \n",
      " 6   atemp       10886 non-null  float64       \n",
      " 7   humidity    10886 non-null  int64         \n",
      " 8   windspeed   10886 non-null  float64       \n",
      " 9   casual      10886 non-null  int64         \n",
      " 10  registered  10886 non-null  int64         \n",
      " 11  count       10886 non-null  int64         \n",
      " 12  year        10886 non-null  int64         \n",
      " 13  month       10886 non-null  int64         \n",
      " 14  day         10886 non-null  int64         \n",
      " 15  hour        10886 non-null  int64         \n",
      " 16  minute      10886 non-null  int64         \n",
      " 17  second      10886 non-null  int64         \n",
      "dtypes: datetime64[ns](1), float64(3), int64(14)\n",
      "memory usage: 1.5 MB\n"
     ]
    }
   ],
   "source": [
    "train['datetime'] = pd.to_datetime(train['datetime']) # to_datetime\n",
    "\n",
    "# 순서대로 연, 월, 일, 시, 분, 초\n",
    "train['year'] = train['datetime'].dt.year\n",
    "train['month'] = train['datetime'].dt.month\n",
    "train['day'] = train['datetime'].dt.day\n",
    "train['hour'] = train['datetime'].dt.hour\n",
    "train['minute'] = train['datetime'].dt.minute\n",
    "train['second'] = train['datetime'].dt.second\n",
    "train.info()"
   ]
  },
  {
   "cell_type": "markdown",
   "id": "0378a6fa",
   "metadata": {},
   "source": [
    "# year, month, day, hour, minute, second 시각화"
   ]
  },
  {
   "cell_type": "code",
   "execution_count": 5,
   "id": "ae066221",
   "metadata": {},
   "outputs": [
    {
     "data": {
      "image/png": "[encoded data removed]",
      "text/plain": [
       "<Figure size 1080x1080 with 6 Axes>"
      ]
     },
     "metadata": {
      "needs_background": "light"
     },
     "output_type": "display_data"
    }
   ],
   "source": [
    "import seaborn as sns\n",
    "import matplotlib as mpl\n",
    "import matplotlib.pyplot as plt\n",
    "%matplotlib inline\n",
    "\n",
    "# 시각화를 위한 subplot 설정\n",
    "fig, axes = plt.subplots(3, 2, figsize=(15, 15))\n",
    "\n",
    "# 각 subplot에 countplot 그리기\n",
    "sns.countplot(ax=axes[0, 0], data=train, x='year')\n",
    "axes[0, 0].set_title('Year')\n",
    "\n",
    "sns.countplot(ax=axes[0, 1], data=train, x='month')\n",
    "axes[0, 1].set_title('Month')\n",
    "\n",
    "sns.countplot(ax=axes[1, 0], data=train, x='day')\n",
    "axes[1, 0].set_title('Day')\n",
    "\n",
    "sns.countplot(ax=axes[1, 1], data=train, x='hour')\n",
    "axes[1, 1].set_title('Hour')\n",
    "\n",
    "sns.countplot(ax=axes[2, 0], data=train, x='minute')\n",
    "axes[2, 0].set_title('Minute')\n",
    "\n",
    "sns.countplot(ax=axes[2, 1], data=train, x='second')\n",
    "axes[2, 1].set_title('Second')\n",
    "\n",
    "# 레이아웃 조정\n",
    "plt.tight_layout()\n",
    "\n",
    "# 플롯 표시\n",
    "plt.show()"
   ]
  },
  {
   "cell_type": "markdown",
   "id": "fc405de2",
   "metadata": {},
   "source": [
    "# X, y 컬럼 선택 및 train/test 데이터 분리\n",
    "\n",
    "날씨 좋은 월요일 오후 세 시, 자전거 타는 사람은 몇 명 을 구하는 문제에서\n",
    "\n",
    "아래 컬럼중 어떤건 필요하고 어떤건 안필요할까?\n",
    "- datetime\n",
    "- season\n",
    "- holiday\n",
    "- workingday\n",
    "- weather\n",
    "- temp\n",
    "- atemp\n",
    "- humidity\n",
    "- windspeed\n",
    "- casual\n",
    "- registered\n",
    "- count\n",
    "- year\n",
    "- month\n",
    "- day\n",
    "- hour\n",
    "- minute\n",
    "- second\n"
   ]
  },
  {
   "cell_type": "markdown",
   "id": "05390527",
   "metadata": {},
   "source": [
    "## datetime\n",
    "datetime은 위에서 파생피처를 만들때에도 봤던 피처다.\n",
    "\n",
    "이 피처를 통해 파생 피처들도 만들었는데 (내용이 중복됨) 이 피처가 필요할까? 이 피처의 포함 여부에 따라 모델 성능에 영향이 있는지 확인해보아야겠다"
   ]
  },
  {
   "cell_type": "code",
   "execution_count": 6,
   "id": "1c4de0a9",
   "metadata": {},
   "outputs": [
    {
     "data": {
      "text/plain": [
       "0       2011-01-01 00:00:00\n",
       "1       2011-01-01 01:00:00\n",
       "2       2011-01-01 02:00:00\n",
       "3       2011-01-01 03:00:00\n",
       "4       2011-01-01 04:00:00\n",
       "                ...        \n",
       "10881   2012-12-19 19:00:00\n",
       "10882   2012-12-19 20:00:00\n",
       "10883   2012-12-19 21:00:00\n",
       "10884   2012-12-19 22:00:00\n",
       "10885   2012-12-19 23:00:00\n",
       "Name: datetime, Length: 10886, dtype: datetime64[ns]"
      ]
     },
     "execution_count": 6,
     "metadata": {},
     "output_type": "execute_result"
    }
   ],
   "source": [
    "train['datetime']"
   ]
  },
  {
   "cell_type": "markdown",
   "id": "123fa1b1",
   "metadata": {},
   "source": [
    "## season\n",
    "season은 계절데이터다. 나의 생각으론 계절에 따라 자전거 수요량 예측에있어 시원한 계절은 수요량이 높고 춥거나 눈이오는 계절은 수요량이 없을거같다\n",
    "이 데이터셋에서 각 계절 숫자는\n",
    "- 1:봄 (1~3월)\n",
    "- 2:여름 (3~6월)\n",
    "- 3:가을 (6~9월)\n",
    "- 4:겨울 (9~12월)"
   ]
  },
  {
   "cell_type": "markdown",
   "id": "ddd816c4",
   "metadata": {},
   "source": [
    "### 박스플롯으로 확인\n",
    "범주형 데이터에 따른 수치형 데이터 정보를 나타내는 그래프이다.이걸로 계절에 대한 수요량을 시각적으로확인하면\n",
    "\n",
    "이 데이터셋에서"
   ]
  },
  {
   "cell_type": "code",
   "execution_count": 7,
   "id": "aa534893",
   "metadata": {},
   "outputs": [
    {
     "data": {
      "text/plain": [
       "<AxesSubplot:xlabel='season', ylabel='count'>"
      ]
     },
     "execution_count": 7,
     "metadata": {},
     "output_type": "execute_result"
    },
    {
     "data": {
      "image/png": "[encoded data removed]",
      "text/plain": [
       "<Figure size 432x288 with 1 Axes>"
      ]
     },
     "metadata": {
      "needs_background": "light"
     },
     "output_type": "display_data"
    }
   ],
   "source": [
    "sns.boxplot(x='season', y='count', data=train)"
   ]
  },
  {
   "cell_type": "markdown",
   "id": "db5ef6e5",
   "metadata": {},
   "source": [
    "## holiday\n",
    "holiday는 휴일데이터다. 이또한 범주형 데이터이기 때문에 박스플롯으로 확인해보면\n",
    "- 0:휴일이아님\n",
    "- 1:휴일"
   ]
  },
  {
   "cell_type": "code",
   "execution_count": 8,
   "id": "535d227c",
   "metadata": {},
   "outputs": [
    {
     "data": {
      "text/plain": [
       "<AxesSubplot:xlabel='holiday', ylabel='count'>"
      ]
     },
     "execution_count": 8,
     "metadata": {},
     "output_type": "execute_result"
    },
    {
     "data": {
      "image/png": "[encoded data removed]",
      "text/plain": [
       "<Figure size 432x288 with 1 Axes>"
      ]
     },
     "metadata": {
      "needs_background": "light"
     },
     "output_type": "display_data"
    }
   ],
   "source": [
    "sns.boxplot(x='holiday', y='count', data=train) # 휴일인가 아닌가에 따라 별로 차이가 없는듯"
   ]
  },
  {
   "cell_type": "markdown",
   "id": "08df85b3",
   "metadata": {},
   "source": [
    "## workingday\n",
    "workingday은 근무일 인지, 아닌지의 데이터다. 이또한 박스플롯으로 확인하면\n",
    "- 0:근무일이 아님\n",
    "- 1:근무일"
   ]
  },
  {
   "cell_type": "code",
   "execution_count": 9,
   "id": "84a2a479",
   "metadata": {},
   "outputs": [
    {
     "data": {
      "text/plain": [
       "<AxesSubplot:xlabel='workingday', ylabel='count'>"
      ]
     },
     "execution_count": 9,
     "metadata": {},
     "output_type": "execute_result"
    },
    {
     "data": {
      "image/png": "[encoded data removed]",
      "text/plain": [
       "<Figure size 432x288 with 1 Axes>"
      ]
     },
     "metadata": {
      "needs_background": "light"
     },
     "output_type": "display_data"
    }
   ],
   "source": [
    "sns.boxplot(x='workingday', y='count', data=train) # 근무일에 따라 별로 차이가 없는듯"
   ]
  },
  {
   "cell_type": "markdown",
   "id": "6f413715",
   "metadata": {},
   "source": [
    "## weather\n",
    "weather은 날씨 데이터다.\n",
    "- 1: 아주 깨끗한날씨\n",
    "- 2: 약간의 안개와 구름\n",
    "- 3: 아주많은비와 우박\n",
    "- 4: 아주 많은비와 우박"
   ]
  },
  {
   "cell_type": "code",
   "execution_count": 10,
   "id": "58a9087a",
   "metadata": {},
   "outputs": [
    {
     "data": {
      "text/plain": [
       "<AxesSubplot:xlabel='weather', ylabel='count'>"
      ]
     },
     "execution_count": 10,
     "metadata": {},
     "output_type": "execute_result"
    },
    {
     "data": {
      "image/png": "[encoded data removed]",
      "text/plain": [
       "<Figure size 432x288 with 1 Axes>"
      ]
     },
     "metadata": {
      "needs_background": "light"
     },
     "output_type": "display_data"
    }
   ],
   "source": [
    "sns.boxplot(x='weather', y='count', data=train)\n",
    "# 4(아주 많은비와 우박)에 뭔가가 표시되었다. 아래처럼 아무데이터도없다면 컬럼자체가 없어야한다."
   ]
  },
  {
   "cell_type": "code",
   "execution_count": 11,
   "id": "1b978f31",
   "metadata": {},
   "outputs": [
    {
     "data": {
      "image/png": "[encoded data removed]",
      "text/plain": [
       "<Figure size 432x288 with 1 Axes>"
      ]
     },
     "metadata": {
      "needs_background": "light"
     },
     "output_type": "display_data"
    }
   ],
   "source": [
    "train = train[train['weather'] != 4]\n",
    "sns.boxplot(x='weather', y='count', data=train)\n",
    "train = org_train # 잠깐 그리고 다시 복구"
   ]
  },
  {
   "cell_type": "code",
   "execution_count": 12,
   "id": "40423c4e",
   "metadata": {},
   "outputs": [
    {
     "data": {
      "text/html": [
       "<div>\n",
       "<style scoped>\n",
       "    .dataframe tbody tr th:only-of-type {\n",
       "        vertical-align: middle;\n",
       "    }\n",
       "\n",
       "    .dataframe tbody tr th {\n",
       "        vertical-align: top;\n",
       "    }\n",
       "\n",
       "    .dataframe thead th {\n",
       "        text-align: right;\n",
       "    }\n",
       "</style>\n",
       "<table border=\"1\" class=\"dataframe\">\n",
       "  <thead>\n",
       "    <tr style=\"text-align: right;\">\n",
       "      <th></th>\n",
       "      <th>datetime</th>\n",
       "      <th>season</th>\n",
       "      <th>holiday</th>\n",
       "      <th>workingday</th>\n",
       "      <th>weather</th>\n",
       "      <th>temp</th>\n",
       "      <th>atemp</th>\n",
       "      <th>humidity</th>\n",
       "      <th>windspeed</th>\n",
       "      <th>casual</th>\n",
       "      <th>registered</th>\n",
       "      <th>count</th>\n",
       "      <th>year</th>\n",
       "      <th>month</th>\n",
       "      <th>day</th>\n",
       "      <th>hour</th>\n",
       "      <th>minute</th>\n",
       "      <th>second</th>\n",
       "    </tr>\n",
       "  </thead>\n",
       "  <tbody>\n",
       "    <tr>\n",
       "      <th>5631</th>\n",
       "      <td>2012-01-09 18:00:00</td>\n",
       "      <td>1</td>\n",
       "      <td>0</td>\n",
       "      <td>1</td>\n",
       "      <td>4</td>\n",
       "      <td>8.2</td>\n",
       "      <td>11.365</td>\n",
       "      <td>86</td>\n",
       "      <td>6.0032</td>\n",
       "      <td>6</td>\n",
       "      <td>158</td>\n",
       "      <td>164</td>\n",
       "      <td>2012</td>\n",
       "      <td>1</td>\n",
       "      <td>9</td>\n",
       "      <td>18</td>\n",
       "      <td>0</td>\n",
       "      <td>0</td>\n",
       "    </tr>\n",
       "  </tbody>\n",
       "</table>\n",
       "</div>"
      ],
      "text/plain": [
       "                datetime  season  holiday  workingday  weather  temp   atemp  \\\n",
       "5631 2012-01-09 18:00:00       1        0           1        4   8.2  11.365   \n",
       "\n",
       "      humidity  windspeed  casual  registered  count  year  month  day  hour  \\\n",
       "5631        86     6.0032       6         158    164  2012      1    9    18   \n",
       "\n",
       "      minute  second  \n",
       "5631       0       0  "
      ]
     },
     "execution_count": 12,
     "metadata": {},
     "output_type": "execute_result"
    }
   ],
   "source": [
    "train[train['weather'] == 4] # 이건 이상치로 판단하여 빼는게 좋을듯"
   ]
  },
  {
   "cell_type": "markdown",
   "id": "6b15e4f1",
   "metadata": {},
   "source": [
    "## scatter 그래프\n",
    "두 변수의 관계를 보여줄 수 있는 그래프"
   ]
  },
  {
   "cell_type": "markdown",
   "id": "084b581e",
   "metadata": {},
   "source": [
    "## temp\n",
    "이는 온도데이터다. 온도도 계절처럼 자전거 수요량에 중요한 데이터일거같다"
   ]
  },
  {
   "cell_type": "code",
   "execution_count": 13,
   "id": "5a7a72d8",
   "metadata": {},
   "outputs": [
    {
     "data": {
      "text/plain": [
       "<matplotlib.collections.PathCollection at 0x7c288fc736d0>"
      ]
     },
     "execution_count": 13,
     "metadata": {},
     "output_type": "execute_result"
    },
    {
     "data": {
      "image/png": "[encoded data removed]",
      "text/plain": [
       "<Figure size 432x288 with 1 Axes>"
      ]
     },
     "metadata": {
      "needs_background": "light"
     },
     "output_type": "display_data"
    }
   ],
   "source": [
    "plt.scatter(train['temp'],train['count']) # 온도가 0~10 사이와 40도 이상일때 수요량이 비교적 적다"
   ]
  },
  {
   "cell_type": "markdown",
   "id": "56693a6b",
   "metadata": {},
   "source": [
    "## atemp\n",
    "이는 체감온도다 위 온도데이터와 비슷할거라 생각한다."
   ]
  },
  {
   "cell_type": "code",
   "execution_count": 14,
   "id": "45a20209",
   "metadata": {},
   "outputs": [
    {
     "data": {
      "text/plain": [
       "<matplotlib.collections.PathCollection at 0x7c288fbeca00>"
      ]
     },
     "execution_count": 14,
     "metadata": {},
     "output_type": "execute_result"
    },
    {
     "data": {
      "image/png": "[encoded data removed]",
      "text/plain": [
       "<Figure size 432x288 with 1 Axes>"
      ]
     },
     "metadata": {
      "needs_background": "light"
     },
     "output_type": "display_data"
    }
   ],
   "source": [
    "plt.scatter(train['atemp'],train['count']) # 체감온도가 0~10 사이와 40도이상일때 자전거 수요량이 비교적 적음"
   ]
  },
  {
   "cell_type": "code",
   "execution_count": 15,
   "id": "5cb01978",
   "metadata": {},
   "outputs": [
    {
     "name": "stdout",
     "output_type": "stream",
     "text": [
      "온도가 40도이상인것 1\n",
      "체감온도가 40도이상인것 149\n"
     ]
    }
   ],
   "source": [
    "# 그냥 온도가 40도 이상인건 1개밖에 없는데 체감온도가 40도이상인것과 차이가 좀난다.\n",
    "\n",
    "print('온도가 40도이상인것',len(train[train['temp'] > 40]))\n",
    "print('체감온도가 40도이상인것',len(train[train['atemp'] > 40]))\n",
    "\n",
    "# 그냥 온도가 40도 이상인건 이상치로 판단하여 빼는것이 좋을거같다."
   ]
  },
  {
   "cell_type": "markdown",
   "id": "1367ceaa",
   "metadata": {},
   "source": [
    "## humidity\n",
    "이는 습도 데이터다. 습도도 자전거 수요량에 대해 중요한 데이터일거같다."
   ]
  },
  {
   "cell_type": "code",
   "execution_count": 16,
   "id": "684aca38",
   "metadata": {},
   "outputs": [
    {
     "data": {
      "text/plain": [
       "<matplotlib.collections.PathCollection at 0x7c288fc20760>"
      ]
     },
     "execution_count": 16,
     "metadata": {},
     "output_type": "execute_result"
    },
    {
     "data": {
      "image/png": "[encoded data removed]",
      "text/plain": [
       "<Figure size 432x288 with 1 Axes>"
      ]
     },
     "metadata": {
      "needs_background": "light"
     },
     "output_type": "display_data"
    }
   ],
   "source": [
    "plt.scatter(train['humidity'],train['count'])"
   ]
  },
  {
   "cell_type": "code",
   "execution_count": 17,
   "id": "e22a99bd",
   "metadata": {},
   "outputs": [
    {
     "name": "stdout",
     "output_type": "stream",
     "text": [
      "습도가 0인것 22\n",
      "습도가 100인것 148\n"
     ]
    }
   ],
   "source": [
    "# 습도가 완전히 0이거나, 100일 수 있을까?\n",
    "\n",
    "print('습도가 0인것',len(train[train['humidity'] == 0]))\n",
    "print('습도가 100인것',len(train[train['humidity'] == 100]))\n",
    "# 이상치로 판단하여 뺴야하나?"
   ]
  },
  {
   "cell_type": "markdown",
   "id": "6e8df821",
   "metadata": {},
   "source": [
    "- humidity\n",
    "- windspeed\n",
    "- casual\n",
    "- registered\n",
    "- count\n",
    "- year\n",
    "- month\n",
    "- day\n",
    "- hour\n",
    "- minute\n",
    "- second\n"
   ]
  },
  {
   "cell_type": "markdown",
   "id": "accae6c6",
   "metadata": {},
   "source": [
    "## windspeed\n",
    "풍속 데이터다. 자전거수요와는 상관없을거같다"
   ]
  },
  {
   "cell_type": "code",
   "execution_count": 18,
   "id": "ee206c3e",
   "metadata": {},
   "outputs": [
    {
     "data": {
      "text/plain": [
       "<matplotlib.collections.PathCollection at 0x7c288fabd5b0>"
      ]
     },
     "execution_count": 18,
     "metadata": {},
     "output_type": "execute_result"
    },
    {
     "data": {
      "image/png": "[encoded data removed]",
      "text/plain": [
       "<Figure size 432x288 with 1 Axes>"
      ]
     },
     "metadata": {
      "needs_background": "light"
     },
     "output_type": "display_data"
    }
   ],
   "source": [
    "plt.scatter(train['windspeed'],train['count'])"
   ]
  },
  {
   "cell_type": "code",
   "execution_count": 19,
   "id": "03e4c710",
   "metadata": {},
   "outputs": [
    {
     "name": "stdout",
     "output_type": "stream",
     "text": [
      "풍속이 0인것 1313\n"
     ]
    }
   ],
   "source": [
    "# 풍속이 완전히 0 일수 있을까?\n",
    "\n",
    "print('풍속이 0인것',len(train[train['windspeed'] == 0]))\n",
    "# 이상치로 판단하여 뺴야하나?"
   ]
  },
  {
   "cell_type": "markdown",
   "id": "a8ef273c",
   "metadata": {},
   "source": [
    "## count\n",
    "문제에서 맞춰야하는 값이다."
   ]
  },
  {
   "cell_type": "code",
   "execution_count": 20,
   "id": "81ea4c24",
   "metadata": {},
   "outputs": [
    {
     "data": {
      "image/png": "[encoded data removed]",
      "text/plain": [
       "<Figure size 360x360 with 1 Axes>"
      ]
     },
     "metadata": {
      "needs_background": "light"
     },
     "output_type": "display_data"
    }
   ],
   "source": [
    "import warnings\n",
    "\n",
    "with warnings.catch_warnings():\n",
    "    warnings.simplefilter(action='ignore', category=FutureWarning)\n",
    "    mpl.rc('font', size=15)\n",
    "    sns.displot(train['count']) # 분포도 출력했을때 왼쪽으로 치우쳐져있다."
   ]
  },
  {
   "cell_type": "code",
   "execution_count": 21,
   "id": "0cc44246",
   "metadata": {},
   "outputs": [
    {
     "data": {
      "image/png": "[encoded data removed]",
      "text/plain": [
       "<Figure size 360x360 with 1 Axes>"
      ]
     },
     "metadata": {
      "needs_background": "light"
     },
     "output_type": "display_data"
    }
   ],
   "source": [
    "import warnings\n",
    "with warnings.catch_warnings():\n",
    "    warnings.simplefilter(action='ignore', category=FutureWarning)\n",
    "    sns.displot(np.log(train['count'])) # log화 시켜 정규화시켜준다."
   ]
  },
  {
   "cell_type": "markdown",
   "id": "16c4d9a4",
   "metadata": {},
   "source": [
    "## casual/registered\n",
    "문제가 회원/비회원의 자전거 수요량을 예측하는것이라면 필요해보이지만\n",
    "\n",
    "그냥 자전거 수요량과 이였기에 피처에서 빼면되겠다."
   ]
  },
  {
   "cell_type": "markdown",
   "id": "0dc6f0a7",
   "metadata": {},
   "source": [
    "### 정리\n",
    "위 시각화 등으로 정리한내용을 다시 정리하자면\n",
    "\n",
    "- (아주 많은비와 우박)에 수요가 있다 : train[train['weather'] != 4]\n",
    "- 온도가 40도이상인것 : train[train['temp'] > 40])\n",
    "- 습도가 0인것 : train[train['humidity'] == 0])\n",
    "- 습도가 100인것 : train[train['humidity'] == 100]))\n",
    "- 풍속이 완전히 0 일수 있을까? : train[train['windspeed'] == 0]\n",
    "- 그냥 count로 하면 왼쪽으로 분포된 값들이기에 좋은 선형회귀모델을 위해 로그화시킴\n",
    "- day,minute,second는 수요량과 상관이 없을거같다.\n",
    "\n",
    "이 값들을 이상치로 봐야할거같고 casual/registered는 빼자"
   ]
  },
  {
   "cell_type": "code",
   "execution_count": 22,
   "id": "5de3f6de",
   "metadata": {},
   "outputs": [
    {
     "data": {
      "text/html": [
       "<div>\n",
       "<style scoped>\n",
       "    .dataframe tbody tr th:only-of-type {\n",
       "        vertical-align: middle;\n",
       "    }\n",
       "\n",
       "    .dataframe tbody tr th {\n",
       "        vertical-align: top;\n",
       "    }\n",
       "\n",
       "    .dataframe thead th {\n",
       "        text-align: right;\n",
       "    }\n",
       "</style>\n",
       "<table border=\"1\" class=\"dataframe\">\n",
       "  <thead>\n",
       "    <tr style=\"text-align: right;\">\n",
       "      <th></th>\n",
       "      <th>season</th>\n",
       "      <th>holiday</th>\n",
       "      <th>workingday</th>\n",
       "      <th>weather</th>\n",
       "      <th>temp</th>\n",
       "      <th>atemp</th>\n",
       "      <th>humidity</th>\n",
       "      <th>windspeed</th>\n",
       "      <th>count</th>\n",
       "      <th>year</th>\n",
       "      <th>hour</th>\n",
       "    </tr>\n",
       "  </thead>\n",
       "  <tbody>\n",
       "    <tr>\n",
       "      <th>0</th>\n",
       "      <td>1</td>\n",
       "      <td>0</td>\n",
       "      <td>0</td>\n",
       "      <td>1</td>\n",
       "      <td>9.84</td>\n",
       "      <td>14.395</td>\n",
       "      <td>81</td>\n",
       "      <td>0.0</td>\n",
       "      <td>16</td>\n",
       "      <td>2011</td>\n",
       "      <td>0</td>\n",
       "    </tr>\n",
       "    <tr>\n",
       "      <th>1</th>\n",
       "      <td>1</td>\n",
       "      <td>0</td>\n",
       "      <td>0</td>\n",
       "      <td>1</td>\n",
       "      <td>9.02</td>\n",
       "      <td>13.635</td>\n",
       "      <td>80</td>\n",
       "      <td>0.0</td>\n",
       "      <td>40</td>\n",
       "      <td>2011</td>\n",
       "      <td>1</td>\n",
       "    </tr>\n",
       "    <tr>\n",
       "      <th>2</th>\n",
       "      <td>1</td>\n",
       "      <td>0</td>\n",
       "      <td>0</td>\n",
       "      <td>1</td>\n",
       "      <td>9.02</td>\n",
       "      <td>13.635</td>\n",
       "      <td>80</td>\n",
       "      <td>0.0</td>\n",
       "      <td>32</td>\n",
       "      <td>2011</td>\n",
       "      <td>2</td>\n",
       "    </tr>\n",
       "    <tr>\n",
       "      <th>3</th>\n",
       "      <td>1</td>\n",
       "      <td>0</td>\n",
       "      <td>0</td>\n",
       "      <td>1</td>\n",
       "      <td>9.84</td>\n",
       "      <td>14.395</td>\n",
       "      <td>75</td>\n",
       "      <td>0.0</td>\n",
       "      <td>13</td>\n",
       "      <td>2011</td>\n",
       "      <td>3</td>\n",
       "    </tr>\n",
       "    <tr>\n",
       "      <th>4</th>\n",
       "      <td>1</td>\n",
       "      <td>0</td>\n",
       "      <td>0</td>\n",
       "      <td>1</td>\n",
       "      <td>9.84</td>\n",
       "      <td>14.395</td>\n",
       "      <td>75</td>\n",
       "      <td>0.0</td>\n",
       "      <td>1</td>\n",
       "      <td>2011</td>\n",
       "      <td>4</td>\n",
       "    </tr>\n",
       "  </tbody>\n",
       "</table>\n",
       "</div>"
      ],
      "text/plain": [
       "   season  holiday  workingday  weather  temp   atemp  humidity  windspeed  \\\n",
       "0       1        0           0        1  9.84  14.395        81        0.0   \n",
       "1       1        0           0        1  9.02  13.635        80        0.0   \n",
       "2       1        0           0        1  9.02  13.635        80        0.0   \n",
       "3       1        0           0        1  9.84  14.395        75        0.0   \n",
       "4       1        0           0        1  9.84  14.395        75        0.0   \n",
       "\n",
       "   count  year  hour  \n",
       "0     16  2011     0  \n",
       "1     40  2011     1  \n",
       "2     32  2011     2  \n",
       "3     13  2011     3  \n",
       "4      1  2011     4  "
      ]
     },
     "execution_count": 22,
     "metadata": {},
     "output_type": "execute_result"
    }
   ],
   "source": [
    "train = org_train\n",
    "\n",
    "drop_features = ['casual', 'registered', 'datetime', 'month', 'day','minute','second']\n",
    "train = train.drop(columns=drop_features)\n",
    "train.head()"
   ]
  },
  {
   "cell_type": "code",
   "execution_count": 23,
   "id": "91ef9ccd",
   "metadata": {},
   "outputs": [
    {
     "name": "stdout",
     "output_type": "stream",
     "text": [
      "9549\n",
      "9549\n"
     ]
    }
   ],
   "source": [
    "# 훈련데이터에 이상치라 생각되는것들 제거\n",
    "\n",
    "# 아주 많은 비가온날\n",
    "train = train[train['weather'] != 4]\n",
    "\n",
    "# 온도가 40도 이상인날\n",
    "train = train[train['temp'] < 40]\n",
    "\n",
    "# 습도가 0인날\n",
    "train = train[train['humidity'] != 0]\n",
    "\n",
    "# 습도가 100인날\n",
    "train = train[train['humidity'] != 0]\n",
    "\n",
    "# 풍속이 0인날\n",
    "train = train[train['windspeed'] != 0]\n",
    "\n",
    "# target 값 y에 할당\n",
    "X = train.drop(columns=['count']) # count는 y에만둘거라\n",
    "y = train['count']\n",
    "print(len(X))\n",
    "print(len(y))"
   ]
  },
  {
   "cell_type": "markdown",
   "id": "d3ac4053",
   "metadata": {},
   "source": [
    "# 모델 학습"
   ]
  },
  {
   "cell_type": "code",
   "execution_count": 24,
   "id": "d1537d1f",
   "metadata": {},
   "outputs": [
    {
     "name": "stdout",
     "output_type": "stream",
     "text": [
      "mse: 20003.02327787294\n",
      "rmse: 141.43204473482288\n"
     ]
    }
   ],
   "source": [
    "from sklearn.model_selection import train_test_split\n",
    "from sklearn.linear_model import LinearRegression\n",
    "from sklearn.metrics import mean_squared_error\n",
    "\n",
    "X_train, X_test, y_train, y_test = train_test_split(X, y, test_size=0.2, random_state=2)\n",
    "\n",
    "model = LinearRegression()\n",
    "model.fit(X_train, y_train)\n",
    "\n",
    "y_pred = model.predict(X_test)\n",
    "\n",
    "mse = mean_squared_error(y_test, y_pred)\n",
    "rmse = np.sqrt(mse)\n",
    "\n",
    "print(f'mse: {mse}\\nrmse: {rmse}')"
   ]
  },
  {
   "cell_type": "markdown",
   "id": "f0b02ff6",
   "metadata": {},
   "source": [
    "#  x축은 temp 또는 humidity로, y축은 count로 예측 결과 시각화하기"
   ]
  },
  {
   "cell_type": "code",
   "execution_count": 28,
   "id": "08d5ac7d",
   "metadata": {},
   "outputs": [
    {
     "data": {
      "image/png": "[encoded data removed]",
      "text/plain": [
       "<Figure size 432x288 with 1 Axes>"
      ]
     },
     "metadata": {
      "needs_background": "light"
     },
     "output_type": "display_data"
    }
   ],
   "source": [
    "# x축 temp\n",
    "plt.scatter(X_test['temp'], y_test, label = 'test')\n",
    "plt.scatter(X_test['temp'], y_pred, label = 'predict')\n",
    "plt.legend()\n",
    "plt.show()"
   ]
  },
  {
   "cell_type": "code",
   "execution_count": 27,
   "id": "2e1404c0",
   "metadata": {},
   "outputs": [
    {
     "data": {
      "image/png": "[encoded data removed]",
      "text/plain": [
       "<Figure size 432x288 with 1 Axes>"
      ]
     },
     "metadata": {
      "needs_background": "light"
     },
     "output_type": "display_data"
    }
   ],
   "source": [
    "# x축 humidity\n",
    "plt.scatter(X_test['humidity'], y_test, label = 'test')\n",
    "plt.scatter(X_test['humidity'], y_pred, label = 'predict')\n",
    "plt.legend()\n",
    "plt.show()"
   ]
  },
  {
   "cell_type": "markdown",
   "id": "01f11aca",
   "metadata": {},
   "source": [
    "# 회고\n",
    "\n",
    "## 배운 점\n",
    "- 모델을 학습할때의 그래프를 그리는 코드나, 피처 엔지니어링을 할때의 코딩방법\n",
    "- 이전에 이미 풀이가 나와있던 블로그의 글을 계속 참고하며 했었지만, 지금 했을때는 이전에 작업했던 내용 + 지식이 더해진 상태에서 보니 그 블로그에 써져있던 내용들 외에도 좀더 시도해볼 내용들이 더 많아졌었고, 시도해보았다.\n",
    "\n",
    "## 의문점\n",
    "- 지금 작업한 내용은 나의 생각이 더 많이 반영되어있는데 이게 맞는건가 의문이든다."
   ]
  }
 ],
 "metadata": {
  "kernelspec": {
   "display_name": "Python 3 (ipykernel)",
   "language": "python",
   "name": "python3"
  },
  "language_info": {
   "codemirror_mode": {
    "name": "ipython",
    "version": 3
   },
   "file_extension": ".py",
   "mimetype": "text/x-python",
   "name": "python",
   "nbconvert_exporter": "python",
   "pygments_lexer": "ipython3",
   "version": "3.9.7"
  }
 },
 "nbformat": 4,
 "nbformat_minor": 5
}
