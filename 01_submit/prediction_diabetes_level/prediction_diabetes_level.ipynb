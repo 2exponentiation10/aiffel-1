{
 "cells": [
  {
   "cell_type": "markdown",
   "id": "114ec2f0",
   "metadata": {},
   "source": [
    "# 데이터 가져오기 및 확인"
   ]
  },
  {
   "cell_type": "code",
   "execution_count": 1,
   "id": "702c37c1",
   "metadata": {},
   "outputs": [],
   "source": [
    "import pandas as pd\n",
    "import numpy as np\n",
    "from sklearn.datasets import load_diabetes\n",
    "\n",
    "org_datas = load_diabetes()"
   ]
  },
  {
   "cell_type": "markdown",
   "id": "bb367856",
   "metadata": {},
   "source": [
    "# 모델에 입력할 데이터 준비하기"
   ]
  },
  {
   "cell_type": "code",
   "execution_count": 2,
   "id": "ba0a5b2a",
   "metadata": {},
   "outputs": [],
   "source": [
    "df_X = org_datas.data\n",
    "df_y = org_datas.target"
   ]
  },
  {
   "cell_type": "code",
   "execution_count": 3,
   "id": "a0db60c1",
   "metadata": {},
   "outputs": [
    {
     "name": "stdout",
     "output_type": "stream",
     "text": [
      "(442, 10)\n"
     ]
    }
   ],
   "source": [
    "# pandas dataframe 으로 변경한 diabetes data 확인\n",
    "print(df_X.shape)"
   ]
  },
  {
   "cell_type": "code",
   "execution_count": 4,
   "id": "52250426",
   "metadata": {},
   "outputs": [
    {
     "name": "stdout",
     "output_type": "stream",
     "text": [
      "(442,)\n",
      "[151.  75. 141. 206. 135.  97. 138.  63. 110. 310. 101.  69. 179. 185.\n",
      " 118. 171. 166. 144.  97. 168.  68.  49.  68. 245. 184. 202. 137.  85.\n",
      " 131. 283. 129.  59. 341.  87.  65. 102. 265. 276. 252.  90. 100.  55.\n",
      "  61.  92. 259.  53. 190. 142.  75. 142. 155. 225.  59. 104. 182. 128.\n",
      "  52.  37. 170. 170.  61. 144.  52. 128.  71. 163. 150.  97. 160. 178.\n",
      "  48. 270. 202. 111.  85.  42. 170. 200. 252. 113. 143.  51.  52. 210.\n",
      "  65. 141.  55. 134.  42. 111.  98. 164.  48.  96.  90. 162. 150. 279.\n",
      "  92.  83. 128. 102. 302. 198.  95.  53. 134. 144. 232.  81. 104.  59.\n",
      " 246. 297. 258. 229. 275. 281. 179. 200. 200. 173. 180.  84. 121. 161.\n",
      "  99. 109. 115. 268. 274. 158. 107.  83. 103. 272.  85. 280. 336. 281.\n",
      " 118. 317. 235.  60. 174. 259. 178. 128.  96. 126. 288.  88. 292.  71.\n",
      " 197. 186.  25.  84.  96. 195.  53. 217. 172. 131. 214.  59.  70. 220.\n",
      " 268. 152.  47.  74. 295. 101. 151. 127. 237. 225.  81. 151. 107.  64.\n",
      " 138. 185. 265. 101. 137. 143. 141.  79. 292. 178.  91. 116.  86. 122.\n",
      "  72. 129. 142.  90. 158.  39. 196. 222. 277.  99. 196. 202. 155.  77.\n",
      " 191.  70.  73.  49.  65. 263. 248. 296. 214. 185.  78.  93. 252. 150.\n",
      "  77. 208.  77. 108. 160.  53. 220. 154. 259.  90. 246. 124.  67.  72.\n",
      " 257. 262. 275. 177.  71.  47. 187. 125.  78.  51. 258. 215. 303. 243.\n",
      "  91. 150. 310. 153. 346.  63.  89.  50.  39. 103. 308. 116. 145.  74.\n",
      "  45. 115. 264.  87. 202. 127. 182. 241.  66.  94. 283.  64. 102. 200.\n",
      " 265.  94. 230. 181. 156. 233.  60. 219.  80.  68. 332. 248.  84. 200.\n",
      "  55.  85.  89.  31. 129.  83. 275.  65. 198. 236. 253. 124.  44. 172.\n",
      " 114. 142. 109. 180. 144. 163. 147.  97. 220. 190. 109. 191. 122. 230.\n",
      " 242. 248. 249. 192. 131. 237.  78. 135. 244. 199. 270. 164.  72.  96.\n",
      " 306.  91. 214.  95. 216. 263. 178. 113. 200. 139. 139.  88. 148.  88.\n",
      " 243.  71.  77. 109. 272.  60.  54. 221.  90. 311. 281. 182. 321.  58.\n",
      " 262. 206. 233. 242. 123. 167.  63. 197.  71. 168. 140. 217. 121. 235.\n",
      " 245.  40.  52. 104. 132.  88.  69. 219.  72. 201. 110.  51. 277.  63.\n",
      " 118.  69. 273. 258.  43. 198. 242. 232. 175.  93. 168. 275. 293. 281.\n",
      "  72. 140. 189. 181. 209. 136. 261. 113. 131. 174. 257.  55.  84.  42.\n",
      " 146. 212. 233.  91. 111. 152. 120.  67. 310.  94. 183.  66. 173.  72.\n",
      "  49.  64.  48. 178. 104. 132. 220.  57.]\n"
     ]
    }
   ],
   "source": [
    "# pandas dataframe 으로 변경한 diabetes target 확인\n",
    "print(df_y.shape)\n",
    "print(df_y)"
   ]
  },
  {
   "cell_type": "markdown",
   "id": "e177a562",
   "metadata": {},
   "source": [
    "# 데이터셋 분리"
   ]
  },
  {
   "cell_type": "code",
   "execution_count": 5,
   "id": "35e0388e",
   "metadata": {},
   "outputs": [
    {
     "name": "stdout",
     "output_type": "stream",
     "text": [
      "(353, 10) (353,)\n",
      "(89, 10) (89,)\n"
     ]
    }
   ],
   "source": [
    "from sklearn.model_selection import train_test_split\n",
    "\n",
    "X_train, X_test, y_train, y_test = train_test_split(df_X, df_y, test_size=0.2, random_state=2004)\n",
    "\n",
    "print(X_train.shape, y_train.shape)\n",
    "print(X_test.shape, y_test.shape)"
   ]
  },
  {
   "cell_type": "markdown",
   "id": "07ca3d92",
   "metadata": {},
   "source": [
    "# 모델 준비 및 입력데이터 준비"
   ]
  },
  {
   "cell_type": "code",
   "execution_count": 6,
   "id": "bb1e83e6",
   "metadata": {},
   "outputs": [],
   "source": [
    "# y=w1x1+w2x2+w3x3+w4x4+w5x5+w6x6+w7x7+w8x8+w9x9+w10x10+b\n",
    "\n",
    "W = np.random.rand(10)\n",
    "b = np.random.rand()\n",
    "\n",
    "def model(X, W, b):\n",
    "    predictions = 0\n",
    "    for i in range(10):\n",
    "        predictions += X[:, i] * W[i]\n",
    "    predictions += b\n",
    "    return predictions"
   ]
  },
  {
   "cell_type": "markdown",
   "id": "19ca900c",
   "metadata": {},
   "source": [
    "# 손실함수 (MSE)"
   ]
  },
  {
   "cell_type": "code",
   "execution_count": 7,
   "id": "8bac021c",
   "metadata": {},
   "outputs": [],
   "source": [
    "def mse(a, b):\n",
    "    mse = ((a - b) ** 2).mean()  # 두 값의 차이의 제곱의 평균\n",
    "    return mse\n",
    "\n",
    "def loss(X, W, b, y):\n",
    "    predictions = model(X, W, b)\n",
    "    L = mse(predictions, y)\n",
    "    return L"
   ]
  },
  {
   "cell_type": "markdown",
   "id": "508dd6fd",
   "metadata": {},
   "source": [
    "# gradient 함수"
   ]
  },
  {
   "cell_type": "code",
   "execution_count": 8,
   "id": "c20f49c2",
   "metadata": {},
   "outputs": [],
   "source": [
    "def gradient(X, W, b, y):\n",
    "    # N은 데이터 포인트의 개수\n",
    "    N = len(y)\n",
    "\n",
    "    # y_pred 준비\n",
    "    y_pred = model(X, W, b)\n",
    "    \n",
    "    # 공식에 맞게 gradient 계산\n",
    "    dW = 1/N * 2 * X.T.dot(y_pred - y)\n",
    "\n",
    "    # b의 gradient 계산\n",
    "    db = 2 * (y_pred - y).mean()\n",
    "    return dW, db"
   ]
  },
  {
   "cell_type": "markdown",
   "id": "2a07d0f8",
   "metadata": {},
   "source": [
    "# 학습률 설정"
   ]
  },
  {
   "cell_type": "code",
   "execution_count": 9,
   "id": "eb2cb085",
   "metadata": {},
   "outputs": [],
   "source": [
    "LEARNING_RATE = 0.1"
   ]
  },
  {
   "cell_type": "markdown",
   "id": "ecdf8889",
   "metadata": {},
   "source": [
    "# 모델 학습하기"
   ]
  },
  {
   "cell_type": "code",
   "execution_count": 10,
   "id": "29df26d8",
   "metadata": {},
   "outputs": [
    {
     "name": "stdout",
     "output_type": "stream",
     "text": [
      "Iteration 100 : Loss 5309.6979\n",
      "Iteration 200 : Loss 4830.5398\n",
      "Iteration 300 : Loss 4473.0206\n",
      "Iteration 400 : Loss 4203.2449\n",
      "Iteration 500 : Loss 3997.0799\n",
      "Iteration 600 : Loss 3837.3123\n",
      "Iteration 700 : Loss 3711.6355\n",
      "Iteration 800 : Loss 3611.2254\n",
      "Iteration 900 : Loss 3529.7329\n",
      "Iteration 1000 : Loss 3462.5688\n",
      "Iteration 1100 : Loss 3406.3987\n",
      "Iteration 1200 : Loss 3358.7835\n",
      "Iteration 1300 : Loss 3317.9257\n",
      "Iteration 1400 : Loss 3282.4881\n",
      "Iteration 1500 : Loss 3251.4655\n",
      "Iteration 1600 : Loss 3224.0932\n",
      "Iteration 1700 : Loss 3199.7817\n",
      "Iteration 1800 : Loss 3178.0701\n",
      "Iteration 1900 : Loss 3158.5926\n",
      "Iteration 2000 : Loss 3141.0544\n",
      "Iteration 2100 : Loss 3125.2144\n",
      "Iteration 2200 : Loss 3110.8725\n",
      "Iteration 2300 : Loss 3097.8604\n",
      "Iteration 2400 : Loss 3086.0348\n",
      "Iteration 2500 : Loss 3075.2723\n",
      "Iteration 2600 : Loss 3065.4657\n",
      "Iteration 2700 : Loss 3056.5209\n",
      "Iteration 2800 : Loss 3048.3552\n",
      "Iteration 2900 : Loss 3040.8948\n",
      "Iteration 3000 : Loss 3034.0741\n"
     ]
    }
   ],
   "source": [
    "losses = []\n",
    "\n",
    "for epoch in range(1, 3001):\n",
    "    dW, db = gradient(X_train, W, b, y_train)\n",
    "\n",
    "    W -= LEARNING_RATE * dW\n",
    "    b -= LEARNING_RATE * db\n",
    "    L = loss(X_train, W, b, y_train)\n",
    "    losses.append(L)\n",
    "    if epoch % 100 == 0:\n",
    "        print('Iteration %d : Loss %0.4f' % (epoch, L))"
   ]
  },
  {
   "cell_type": "code",
   "execution_count": 11,
   "id": "e81a2371",
   "metadata": {},
   "outputs": [
    {
     "data": {
      "image/png": "[encoded data removed]",
      "text/plain": [
       "<Figure size 432x288 with 1 Axes>"
      ]
     },
     "metadata": {
      "needs_background": "light"
     },
     "output_type": "display_data"
    }
   ],
   "source": [
    "import matplotlib.pyplot as plt\n",
    "# loss 시각화\n",
    "plt.plot(losses)\n",
    "plt.show()"
   ]
  },
  {
   "cell_type": "markdown",
   "id": "7afcadff",
   "metadata": {},
   "source": [
    "# test 데이터에 대한 성능 확인하기"
   ]
  },
  {
   "cell_type": "code",
   "execution_count": 12,
   "id": "be31491f",
   "metadata": {},
   "outputs": [
    {
     "data": {
      "text/plain": [
       "2869.2728175660927"
      ]
     },
     "execution_count": 12,
     "metadata": {},
     "output_type": "execute_result"
    }
   ],
   "source": [
    "prediction = model(X_test, W, b)\n",
    "mse = loss(X_test, W, b, y_test)\n",
    "mse"
   ]
  },
  {
   "cell_type": "markdown",
   "id": "561618fa",
   "metadata": {},
   "source": [
    "# 정답 데이터와 예측한 데이터 시각화하기"
   ]
  },
  {
   "cell_type": "code",
   "execution_count": 13,
   "id": "0f5d0c36",
   "metadata": {},
   "outputs": [
    {
     "data": {
      "image/png": "[encoded data removed]",
      "text/plain": [
       "<Figure size 432x288 with 1 Axes>"
      ]
     },
     "metadata": {
      "needs_background": "light"
     },
     "output_type": "display_data"
    }
   ],
   "source": [
    "# 시각화\n",
    "plt.scatter(X_test[:, 0], y_test)\n",
    "plt.scatter(X_test[:, 0], prediction)\n",
    "plt.show()"
   ]
  },
  {
   "cell_type": "markdown",
   "id": "0c10d439",
   "metadata": {},
   "source": [
    "# 삽질\n",
    "\n",
    "## 상황\n",
    "처음 데이터 불러오는 부분에서 load_diabetes(as_frame=True) as_frame=True 옵션으로 pandas의 데이터프레임으로 받아왔다가 데이터 확인 후 numpy의 array으로 변경했다가 문제 발생\n",
    "\n",
    "## 문제원인\n",
    "**벡터화(1차원)**를 시켜야했는데 \n",
    "\n",
    "as_frame=True 옵션으로 데이터프레임으로 받은 후 numpy의 array로 변경하면 예측해야할 값인 y배열에 데이터프레임의 열값인(target)이 하나의 차원(442(데이터갯수),1(컬럼이름=target)) 으로 인식되어 **2차원 배열**이 만들어져서 학습과정 연산 도중에 서로 **연산할 수 없는 shape입니다** 에러를 만났다.\n",
    "\n",
    "\n",
    "```sh\n",
    "# 에러내용\n",
    "...\n",
    "ValueError: operands could not be broadcast together with shapes (10,) (10,442) (10,)\n",
    "...\n",
    "```\n",
    "\n",
    "## 해결\n",
    "- load_diabetes의 as_frame 옵션은 default값이 False이므로 as_frame 옵션을 사용하지않고\n",
    "- 기본적으로 load_diabetes의 data,target의 타입은 ndarray 이므로 위 상황처럼 dataframe으로 만들었다가 다시 ndarray로 변환하지 않고 바로 가져다 썼다."
   ]
  }
 ],
 "metadata": {
  "kernelspec": {
   "display_name": "Python 3 (ipykernel)",
   "language": "python",
   "name": "python3"
  },
  "language_info": {
   "codemirror_mode": {
    "name": "ipython",
    "version": 3
   },
   "file_extension": ".py",
   "mimetype": "text/x-python",
   "name": "python",
   "nbconvert_exporter": "python",
   "pygments_lexer": "ipython3",
   "version": "3.9.7"
  }
 },
 "nbformat": 4,
 "nbformat_minor": 5
}
